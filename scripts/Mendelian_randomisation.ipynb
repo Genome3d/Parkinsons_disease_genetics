{
 "cells": [
  {
   "cell_type": "code",
   "execution_count": 4,
   "id": "42d07106-06fe-4acf-83cd-efee3af8c58a",
   "metadata": {},
   "outputs": [],
   "source": [
    "library(pacman)\n",
    "p_load(tidyverse, data.table, ggpubr, scales, remotes, ieugwasr, genetics.binaRies)\n",
    "setwd(\"../scripts\")\n",
    "p_load_gh(\"MRCIEU/TwoSampleMR\")\n",
    "#if (!requireNamespace(\"remotes\", quietly = TRUE)) install.packages(\"remotes\")\n",
    "#remotes::install_github(\"MRCIEU/genetics.binaRies\") (works for R version.4.2.2)"
   ]
  },
  {
   "cell_type": "markdown",
   "id": "1a3353ea-4e23-49c6-99c2-f1b9cefd8534",
   "metadata": {},
   "source": [
    "### Functions"
   ]
  },
  {
   "cell_type": "code",
   "execution_count": 5,
   "id": "fb86cfec-90ca-4bd8-a0c0-7239a513d9fe",
   "metadata": {},
   "outputs": [],
   "source": [
    "## read Brain Cortex tissue GRN\n",
    "read_tissue_map <- function() {\n",
    "    dir <- \"../../../../tissue_maps/Brain_Cortex/\"\n",
    "    res <- tibble()\n",
    "    cortex_map <- file.path(list.files(dir, \n",
    "                            pattern = \"significant_eqtls.txt\", \n",
    "                            recursive = TRUE,\n",
    "                            full.names = TRUE))\n",
    "    res <- res %>%\n",
    "            bind_rows(\n",
    "                read_tsv(cortex_map, show_col_types = FALSE)) %>% \n",
    "            dplyr::select(snp, beta, beta_se, alt, ref, maf, eqtl_pval, \n",
    "                          gene, interaction_type) %>% \n",
    "            distinct()\n",
    "} \n",
    "\n",
    "## Prepare data for MR\n",
    "## 1. Prepare exposure data\n",
    "prepare_exposure_data <- function(eqtl_file, fp){\n",
    "    if (!dir.exists(fp)){\n",
    "        dir.create(fp)\n",
    "    }\n",
    "    exposure_df <- read_exposure_data(\n",
    "                        filename = file.path(eqtl_file),\n",
    "                        sep = \"\\t\",\n",
    "                        snp_col = \"snp\",\n",
    "                        beta_col = \"beta\",\n",
    "                        se_col = \"beta_se\",\n",
    "                        effect_allele_col = \"alt\",\n",
    "                        other_allele_col = \"ref\",\n",
    "                        eaf_col = \"maf\",\n",
    "                        pval_col = \"eqtl_pval\",\n",
    "                        phenotype_col = \"gene\") %>% \n",
    "                   distinct() %>% \n",
    "                   write_tsv(file.path(fp, \"exposure_df.txt\"))\n",
    "}\n",
    "\n",
    "## 2. Clump SNPs in the exposure dataset\n",
    "clump_snps <- function(exposure_df, fp) {\n",
    "    res <- tibble()\n",
    "    for (id in unique(exposure_df$id.exposure)){\n",
    "        exp_data <- exposure_df %>%\n",
    "            dplyr::select(SNP, pval.exposure, id.exposure) %>% \n",
    "            distinct() %>% \n",
    "            filter(id.exposure == id) %>% \n",
    "            rename(\"rsid\" = \"SNP\",\n",
    "                   \"pval\" = \"pval.exposure\",\n",
    "                   \"id\" = \"id.exposure\")\n",
    "        res <- res %>% \n",
    "        bind_rows(tryCatch({\n",
    "            ieugwasr::ld_clump(\n",
    "                exp_data,\n",
    "                bfile = \"../data/EUR/EUR\",\n",
    "                plink_bin = genetics.binaRies::get_plink_binary()\n",
    "            )}, error = function(e){}))\n",
    "    }\n",
    "    res <- res %>% \n",
    "        rename(\"SNP\" = \"rsid\",\n",
    "               \"pval.exposure\" = \"pval\",\n",
    "               \"id.exposure\" = \"id\") %>%\n",
    "        inner_join(exposure_df, \n",
    "                   by = c(\"SNP\", \"pval.exposure\", \"id.exposure\")) %>% \n",
    "        write_tsv(file.path(fp, \"exposure_ld_clumped_df.txt\"))\n",
    "}\n",
    "\n",
    "## 2. Extract outcome data\n",
    "extract_outcome <- function(exposure_df, gwas, fp){\n",
    "    outcome_df <- extract_outcome_data(\n",
    "                        snps = exposure_df$SNP,\n",
    "                        outcomes = gwas,\n",
    "                        proxies = TRUE,\n",
    "                        rsq = 0.9) %>%  \n",
    "                  distinct() %>% \n",
    "                  write_tsv(file.path(fp, \"outcome_df.txt\"))\n",
    "}    \n",
    "\n",
    "## 3. Harmonize exposure outcome effects\n",
    "harmonise_expo_outcome <- function(exposure_df, outcome_df, fp) {\n",
    "    harmonised_df <- harmonise_data(\n",
    "                        exposure_dat = exposure_df, \n",
    "                        outcome_dat = outcome_df) %>% \n",
    "                     filter(!mr_keep == \"FALSE\") %>% # Remove SNPs that failed harmonisation\n",
    "                     distinct() %>%\n",
    "                     write_tsv(file.path(fp, \"harmonised_eo_df.txt\")) # using only one gwas study for outcome so power pruning is not required \n",
    "}\n",
    "\n",
    "## Performs the analysis multiple times for each exposure-outcome combination - each time using a different single SNP to perform the analysis\n",
    "\n",
    "perform_singlesnp_mr_single <- function(df, method = NULL) {\n",
    "    if (!is.null(method)) {\n",
    "        res <- mr_singlesnp(df, single_method = method)\n",
    "    }\n",
    "    else {\n",
    "        res <- mr_singlesnp(df)\n",
    "    }            \n",
    "}\n",
    "\n",
    "create_file_ifnot_exists <- function(out_fp, grn){\n",
    "    #grn <- str_replace_all(grn, c(\"'\" = \"\", \" \" = \"_\"))\n",
    "    if (!dir.exists(out_fp)){\n",
    "        dir.create(out_fp)\n",
    "    }\n",
    "    fp <- file.path(out_fp, paste0(grn, \"_data_for_exposure.txt\"))\n",
    "    return(fp)\n",
    "}\n"
   ]
  },
  {
   "cell_type": "markdown",
   "id": "5ae68b1c-5fec-4b4e-a313-dad1413c6a20",
   "metadata": {},
   "source": [
    "### Prepare exposure data"
   ]
  },
  {
   "cell_type": "code",
   "execution_count": null,
   "id": "728d469e-2057-43ea-86f1-0828884e7df3",
   "metadata": {},
   "outputs": [],
   "source": [
    "cortex_grn_eqtl_info <- read_tissue_map() %>% \n",
    "                dplyr::select(snp, beta, beta_se, alt, ref, maf, eqtl_pval, gene) %>% \n",
    "                filter(eqtl_pval < 1*10^-5) %>% \n",
    "                distinct() %>% \n",
    "                write_tsv(create_file_ifnot_exists(\"../analysis/bcgrn_MR\", \"bcgrn\"))\n",
    "\n",
    "out_file_path <- '../analysis/bcgrn_MR'\n",
    "exposure_data <- prepare_exposure_data(\n",
    "                    '../analysis/bcgrn_MR/bcgrn_data_for_exposure.txt',\n",
    "                    out_file_path\n",
    "                    )"
   ]
  },
  {
   "cell_type": "markdown",
   "id": "a2cbd31a-8779-484e-899d-83116d50655a",
   "metadata": {},
   "source": [
    "### Clump exposure SNPs"
   ]
  },
  {
   "cell_type": "code",
   "execution_count": null,
   "id": "e8ca0426-e0dd-4003-af5a-44e672043008",
   "metadata": {},
   "outputs": [],
   "source": [
    "out_file_path <- '../analysis/bcgrn_MR'\n",
    "exposure_data <- read_tsv('../analysis/bcgrn_MR/bcgrn_data_for_exposure.txt')\n",
    "clump_expo_snps <- clump_snps(\n",
    "                        exposure_data,\n",
    "                        out_file_path\n",
    "                        )"
   ]
  },
  {
   "cell_type": "markdown",
   "id": "b1d7125d-ff0f-420a-8546-7f5ee1151286",
   "metadata": {},
   "source": [
    "### Extract outcome data"
   ]
  },
  {
   "cell_type": "code",
   "execution_count": null,
   "id": "b0611c51-47e3-4fb2-8bea-1871412ce53d",
   "metadata": {},
   "outputs": [],
   "source": [
    "out_file_path <- '../analysis/bcgrn_MR'\n",
    "outcome_data <- extract_outcome(exposure_clumped, 'ieu-b-7', out_file_path)"
   ]
  },
  {
   "cell_type": "markdown",
   "id": "34c63322-fe7b-4cb0-9c85-f150d532d325",
   "metadata": {},
   "source": [
    "### Harmonise exposure/outcome data"
   ]
  },
  {
   "cell_type": "code",
   "execution_count": null,
   "id": "e61f06e1-482f-4939-b404-c21ededf4ce5",
   "metadata": {},
   "outputs": [],
   "source": [
    "out_file_path <- '../analysis/bcgrn_MR'\n",
    "harmonised_df <- harmonise_expo_outcome(exposure_clumped, outcome_data, out_file_path)"
   ]
  },
  {
   "cell_type": "markdown",
   "id": "58ea7574-e848-4b25-9d7e-b6823b7441e5",
   "metadata": {},
   "source": [
    "#### MR input data"
   ]
  },
  {
   "cell_type": "code",
   "execution_count": null,
   "id": "24d61b19-33b5-4360-991b-83f007ee21c8",
   "metadata": {},
   "outputs": [],
   "source": [
    "mr_input_data <- read_tsv(\"../analysis/bcgrn_MR/harmonised_eo_df.txt\",\n",
    "                         show_col_types = FALSE) "
   ]
  },
  {
   "cell_type": "markdown",
   "id": "25f621c3-6c42-4dbf-9b7f-70577c999ba6",
   "metadata": {},
   "source": [
    "#### Separate exposure with single and multiple instruments"
   ]
  },
  {
   "cell_type": "code",
   "execution_count": null,
   "id": "f5f99afd-59ce-4276-94dd-8011d743fe0f",
   "metadata": {},
   "outputs": [],
   "source": [
    "# exposure with single SNP instrument\n",
    "single_snp_exposures <- mr_input_data %>% \n",
    "                group_by(exposure) %>% \n",
    "                summarise(instruments = length(SNP)) %>% \n",
    "                filter(instruments == 1)\n",
    "\n",
    "# exposure with multiple SNP instruments\n",
    "inp_genes_many_snp <- mr_input_data %>% \n",
    "                group_by(exposure) %>% \n",
    "                summarise(instruments = length(SNP)) %>% \n",
    "                filter(instruments > 1)"
   ]
  },
  {
   "cell_type": "markdown",
   "id": "ad63ed85-ac84-4087-8318-42053e3bbf2b",
   "metadata": {},
   "source": [
    "#### Perform sensitivity analysis for exposures with multiple snp instruments"
   ]
  },
  {
   "cell_type": "code",
   "execution_count": null,
   "id": "e0bcf34e-af59-47a4-8f55-3728bee44f7e",
   "metadata": {},
   "outputs": [],
   "source": [
    "## do sensitivity analysis (remove Q_pval < 0.05)\n",
    "hetero_test_passed <- mr_heterogeneity(mr_input_data %>% \n",
    "                                filter(exposure %in% inp_genes_many_snp$exposure) %>% \n",
    "                                distinct()) %>% \n",
    "                        filter(!Q_pval < 0.05)\n",
    "\n",
    "## do horizontal pleiotropy test (remove p-val > 0.05 or NA)\n",
    "pleiotropy_test_passed <- mr_pleiotropy_test(mr_input_data %>% \n",
    "                                filter(exposure %in% inp_genes_many_snp$exposure) %>% \n",
    "                                distinct()) %>% \n",
    "                         filter(!pval == \"NA\" | pval > 0.05) "
   ]
  },
  {
   "cell_type": "markdown",
   "id": "80c3782d-c32c-4781-9694-14b5938166f5",
   "metadata": {},
   "source": [
    "### Perform MR for exposure with single instrument"
   ]
  },
  {
   "cell_type": "code",
   "execution_count": null,
   "id": "13577901-d683-4d67-807b-66790f36bdde",
   "metadata": {},
   "outputs": [],
   "source": [
    "mr_input_data_wald <- mr_input_data %>% \n",
    "                        filter(exposure %in% single_snp_exposures$exposure) %>% \n",
    "                        distinct()\n",
    " \n",
    "wald_mr_res <- perform_singlesnp_mr_single(mr_input_data_wald, \"mr_wald_ratio\") %>% \n",
    "                write_tsv(\"../analysis/bcgrn_MR/grn_full_mr_res_wald.txt\")"
   ]
  },
  {
   "cell_type": "markdown",
   "id": "4d283b9f-2579-4bd0-8887-ef98d1e82fc0",
   "metadata": {},
   "source": [
    "#### Generate odds ratios for MR results"
   ]
  },
  {
   "cell_type": "code",
   "execution_count": null,
   "id": "f270fdbc-12b7-40e7-ad38-d965011beec6",
   "metadata": {},
   "outputs": [],
   "source": [
    "wald_mr_res <- read_tsv(\"../analysis/bcgrn_MR/grn_full_mr_res_wald.txt\",\n",
    "                       show_col_types = FALSE)\n",
    "\n",
    "## Perform MR strong effects\n",
    "wald_mr_res_strong <- wald_mr_res %>% \n",
    "                        filter(!is.na(p)) %>% \n",
    "                        generate_odds_ratios() %>% \n",
    "                        filter(p < 0.05/n_distinct(exposure)) %>% \n",
    "                        write_tsv(\"../analysis/bcgrn_MR/cortex_grn_singlesnp_strong.txt\")\n",
    "\n",
    "## Perform MR suggestive effects\n",
    "wald_mr_res_sugg <- wald_mr_res %>% \n",
    "                        filter(!is.na(p)) %>%\n",
    "                        generate_odds_ratios() %>%\n",
    "                        filter(p > 0.05/n_distinct(exposure) & p < 0.05) %>% \n",
    "                        write_tsv(\"../analysis/bcgrn_MR/cortex_grn_singlesnp_sugg.txt\")"
   ]
  },
  {
   "cell_type": "markdown",
   "id": "c2161053-5ccb-4684-a62d-ecf825efcb0f",
   "metadata": {},
   "source": [
    "#### Perform ivw (inverse variance weighted) MR analysis"
   ]
  },
  {
   "cell_type": "code",
   "execution_count": null,
   "id": "5f84b0ab-09c2-4635-8db3-81277b4bcb02",
   "metadata": {},
   "outputs": [],
   "source": [
    "## perform MR for exposure with multiple instruments\n",
    "mr_input_data_ivw <- mr_input_data %>% \n",
    "                        filter(exposure %in% hetero_test_passed$exposure) %>% \n",
    "                        distinct() \n",
    "\n",
    "mr_res_ivr <- perform_singlesnp_mr_single(mr_input_data_ivw, \"mr_ivw\") %>% \n",
    "                        filter(!is.na(p) & !SNP == \"All - MR Egger\") %>%\n",
    "                        generate_odds_ratios() %>%\n",
    "                        filter(p < 0.05/n_distinct(exposure)) #no significant results"
   ]
  }
 ],
 "metadata": {
  "kernelspec": {
   "display_name": "R",
   "language": "R",
   "name": "ir"
  },
  "language_info": {
   "codemirror_mode": "r",
   "file_extension": ".r",
   "mimetype": "text/x-r-source",
   "name": "R",
   "pygments_lexer": "r",
   "version": "4.2.2"
  }
 },
 "nbformat": 4,
 "nbformat_minor": 5
}
